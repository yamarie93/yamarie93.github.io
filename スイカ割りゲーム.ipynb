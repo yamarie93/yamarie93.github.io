{
  "nbformat": 4,
  "nbformat_minor": 0,
  "metadata": {
    "colab": {
      "provenance": [],
      "authorship_tag": "ABX9TyOEwNqUYUyUYsYjPHp3nlu7",
      "include_colab_link": true
    },
    "kernelspec": {
      "name": "python3",
      "display_name": "Python 3"
    },
    "language_info": {
      "name": "python"
    }
  },
  "cells": [
    {
      "cell_type": "markdown",
      "metadata": {
        "id": "view-in-github",
        "colab_type": "text"
      },
      "source": [
        "<a href=\"https://colab.research.google.com/github/yamarie93/yamarie93.github.io/blob/main/%E3%82%B9%E3%82%A4%E3%82%AB%E5%89%B2%E3%82%8A%E3%82%B2%E3%83%BC%E3%83%A0.ipynb\" target=\"_parent\"><img src=\"https://colab.research.google.com/assets/colab-badge.svg\" alt=\"Open In Colab\"/></a>"
      ]
    },
    {
      "cell_type": "markdown",
      "source": [
        "# スイカ割りゲーム\n",
        "## プレイヤーとスイカの位置マップを追加したバージョン"
      ],
      "metadata": {
        "id": "V2oncXj3EfCc"
      }
    },
    {
      "cell_type": "code",
      "source": [
        "import random\n",
        "import math\n",
        "\n",
        "BOARD_SIZE = 5  # ボードの初期サイズ\n",
        "\n",
        "# 0以上size未満の範囲で、x座標とy座標を生成する関数\n",
        "def generate_position(size):\n",
        "    x = random.randrange(0, size)  # x座標\n",
        "    y = random.randrange(0, size)  # y座標\n",
        "\n",
        "    return (x, y)\n",
        "\n",
        "# 2点間の距離を求める関数\n",
        "def calc_distance(pos1, pos2):\n",
        "    diff_x = pos1[0] - pos2[0] # pos1のx座標-pos2のx座標\n",
        "    diff_y = pos1[1] - pos2[1] # pos1のy座標-pos2のy座標\n",
        "\n",
        "    return math.sqrt(diff_x**2 + diff_y**2)\n",
        "\n",
        "# directionにしたがってposを移動する関数\n",
        "def move_position(direction, pos):\n",
        "    current_x, current_y = pos\n",
        "\n",
        "    if direction == \"w\":\n",
        "        current_y = current_y - 1\n",
        "    elif direction == \"e\":\n",
        "        current_y = current_y + 1\n",
        "    elif direction == \"n\":\n",
        "        current_x = current_x - 1\n",
        "    elif direction == \"s\":\n",
        "        current_x = current_x + 1\n",
        "\n",
        "    return (current_x, current_y)\n",
        "\n",
        "# ボードを表示する関数\n",
        "def print_board(board_size, player_pos, suika_pos):\n",
        "    for i in range(board_size):\n",
        "        for j in range(board_size):\n",
        "            if (i, j) == player_pos:\n",
        "                print(\"P\", end=\" \")  # プレイヤーの位置を表示\n",
        "            elif (i, j) == suika_pos:\n",
        "                print(\"◻︎\", end=\" \")  # スイカの位置を表示\n",
        "            else:\n",
        "                print(\"◻︎\", end=\" \")  # 空のセルを表示\n",
        "        print()\n",
        "\n",
        "# スイカ割りゲームを関数化\n",
        "def suika_wari():\n",
        "    suika_pos = generate_position(BOARD_SIZE)  # スイカの座標\n",
        "    player_pos = generate_position(BOARD_SIZE) # プレイヤーの座標\n",
        "\n",
        "    # スイカとプレイヤーの位置が異なる間、処理を繰り返す\n",
        "    while (suika_pos != player_pos):\n",
        "        # ボードを表示\n",
        "        print_board(BOARD_SIZE, player_pos, suika_pos)\n",
        "\n",
        "        # スイカとプレイヤーの距離を表示する\n",
        "        distance = calc_distance(player_pos, suika_pos)\n",
        "        print(\"スイカへの距離:\", distance)\n",
        "\n",
        "        # キー入力に応じて、プレイヤーを移動する\n",
        "        c = input(\"n:北に移動 s:南に移動 e:東に移動 w:西に移動\")\n",
        "        if c not in [\"n\",\"s\",\"e\",\"w\"]:\n",
        "          print(\"無効な方角です\")\n",
        "        else:\n",
        "          player_pos = move_position(c, player_pos)\n",
        "\n",
        "    # スイカとプレイヤーの位置が重なった時の処理\n",
        "    print(\"************************************************\")\n",
        "    print(\"おめでとうございます、スイカを割りました！\")\n",
        "    print(\"スイカの位置は\",suika_pos,\"でした\")\n",
        "    print(\"************************************************\")\n",
        "    print_board(BOARD_SIZE, player_pos, suika_pos)\n",
        "\n",
        "# 実行\n",
        "suika_wari()"
      ],
      "metadata": {
        "colab": {
          "base_uri": "https://localhost:8080/"
        },
        "id": "ck9KpxghOYVa",
        "outputId": "64befc6a-7261-4dc0-976c-2fde438867d1"
      },
      "execution_count": 5,
      "outputs": [
        {
          "output_type": "stream",
          "name": "stdout",
          "text": [
            "◻︎ ◻︎ ◻︎ ◻︎ ◻︎ \n",
            "◻︎ ◻︎ ◻︎ ◻︎ ◻︎ \n",
            "◻︎ ◻︎ P ◻︎ ◻︎ \n",
            "◻︎ ◻︎ ◻︎ ◻︎ ◻︎ \n",
            "◻︎ ◻︎ ◻︎ ◻︎ ◻︎ \n",
            "スイカへの距離: 1.0\n",
            "n:北に移動 s:南に移動 e:東に移動 w:西に移動e\n",
            "◻︎ ◻︎ ◻︎ ◻︎ ◻︎ \n",
            "◻︎ ◻︎ ◻︎ ◻︎ ◻︎ \n",
            "◻︎ ◻︎ ◻︎ P ◻︎ \n",
            "◻︎ ◻︎ ◻︎ ◻︎ ◻︎ \n",
            "◻︎ ◻︎ ◻︎ ◻︎ ◻︎ \n",
            "スイカへの距離: 1.4142135623730951\n",
            "n:北に移動 s:南に移動 e:東に移動 w:西に移動s\n",
            "◻︎ ◻︎ ◻︎ ◻︎ ◻︎ \n",
            "◻︎ ◻︎ ◻︎ ◻︎ ◻︎ \n",
            "◻︎ ◻︎ ◻︎ ◻︎ ◻︎ \n",
            "◻︎ ◻︎ ◻︎ P ◻︎ \n",
            "◻︎ ◻︎ ◻︎ ◻︎ ◻︎ \n",
            "スイカへの距離: 1.0\n",
            "n:北に移動 s:南に移動 e:東に移動 w:西に移動s\n",
            "◻︎ ◻︎ ◻︎ ◻︎ ◻︎ \n",
            "◻︎ ◻︎ ◻︎ ◻︎ ◻︎ \n",
            "◻︎ ◻︎ ◻︎ ◻︎ ◻︎ \n",
            "◻︎ ◻︎ ◻︎ ◻︎ ◻︎ \n",
            "◻︎ ◻︎ ◻︎ P ◻︎ \n",
            "スイカへの距離: 1.4142135623730951\n",
            "n:北に移動 s:南に移動 e:東に移動 w:西に移動n\n",
            "◻︎ ◻︎ ◻︎ ◻︎ ◻︎ \n",
            "◻︎ ◻︎ ◻︎ ◻︎ ◻︎ \n",
            "◻︎ ◻︎ ◻︎ ◻︎ ◻︎ \n",
            "◻︎ ◻︎ ◻︎ P ◻︎ \n",
            "◻︎ ◻︎ ◻︎ ◻︎ ◻︎ \n",
            "スイカへの距離: 1.0\n",
            "n:北に移動 s:南に移動 e:東に移動 w:西に移動w\n",
            "************************************************\n",
            "おめでとうございます、スイカを割りました！\n",
            "スイカの位置は (3, 2) でした\n",
            "************************************************\n",
            "◻︎ ◻︎ ◻︎ ◻︎ ◻︎ \n",
            "◻︎ ◻︎ ◻︎ ◻︎ ◻︎ \n",
            "◻︎ ◻︎ ◻︎ ◻︎ ◻︎ \n",
            "◻︎ ◻︎ P ◻︎ ◻︎ \n",
            "◻︎ ◻︎ ◻︎ ◻︎ ◻︎ \n"
          ]
        }
      ]
    }
  ]
}